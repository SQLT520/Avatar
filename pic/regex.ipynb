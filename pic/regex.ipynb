{
 "cells": [
  {
   "cell_type": "code",
   "execution_count": 2,
   "metadata": {},
   "outputs": [],
   "source": [
    "import re"
   ]
  },
  {
   "cell_type": "code",
   "execution_count": 3,
   "metadata": {
    "scrolled": true,
    "slideshow": {
     "slide_type": "-"
    }
   },
   "outputs": [
    {
     "name": "stdout",
     "output_type": "stream",
     "text": [
      "138-1069-0774\n"
     ]
    }
   ],
   "source": [
    "myRegex = re.compile(r'\\d{3}-\\d{4}-\\d{4}')\n",
    "mo = myRegex.search(\"\"\"my name is zhang bo xiang, and my cell \n",
    "                        number is 138-1069-0774, bla bla\"\"\")\n",
    "if mo is not None:\n",
    "    print(mo.group())"
   ]
  },
  {
   "cell_type": "markdown",
   "metadata": {},
   "source": [
    "例：1,234,567,890  #\\d{1,3}(\\d{3})*"
   ]
  },
  {
   "cell_type": "markdown",
   "metadata": {},
   "source": [
    "< in between anger bracket >"
   ]
  },
  {
   "cell_type": "code",
   "execution_count": 6,
   "metadata": {},
   "outputs": [
    {
     "name": "stdout",
     "output_type": "stream",
     "text": [
      "< in between anger bracket>\n"
     ]
    }
   ],
   "source": [
    "myRegex = re.compile(r'<.*>')\n",
    "mo = myRegex.search(\"\"\"< in between anger bracket> or more >\"\"\")\n",
    "if mo is not None:\n",
    "    print(mo.group())"
   ]
  },
  {
   "cell_type": "markdown",
   "metadata": {},
   "source": [
    "例：< in between anger bracket> or more >"
   ]
  },
  {
   "cell_type": "code",
   "execution_count": null,
   "metadata": {},
   "outputs": [],
   "source": []
  }
 ],
 "metadata": {
  "kernelspec": {
   "display_name": "Python 3",
   "language": "python",
   "name": "python3"
  },
  "language_info": {
   "codemirror_mode": {
    "name": "ipython",
    "version": 3
   },
   "file_extension": ".py",
   "mimetype": "text/x-python",
   "name": "python",
   "nbconvert_exporter": "python",
   "pygments_lexer": "ipython3",
   "version": "3.5.1"
  }
 },
 "nbformat": 4,
 "nbformat_minor": 2
}
